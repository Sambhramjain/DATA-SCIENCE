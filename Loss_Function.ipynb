{
  "nbformat": 4,
  "nbformat_minor": 0,
  "metadata": {
    "colab": {
      "name": "Loss Function.ipynb",
      "provenance": [],
      "collapsed_sections": []
    },
    "kernelspec": {
      "name": "python3",
      "display_name": "Python 3"
    },
    "language_info": {
      "name": "python"
    }
  },
  "cells": [
    {
      "cell_type": "markdown",
      "source": [
        ""
      ],
      "metadata": {
        "id": "MteIE1XrIDCA"
      }
    },
    {
      "cell_type": "code",
      "execution_count": 1,
      "metadata": {
        "id": "RsQuAu-UiK1J"
      },
      "outputs": [],
      "source": [
        "from sklearn.datasets import make_regression #used to create regression sample dataset\n",
        "from sklearn.preprocessing import StandardScaler\n",
        "from keras.models import Sequential\n",
        "from sklearn.model_selection import train_test_split\n",
        "from keras.layers import Dense\n",
        "from tensorflow.keras.optimizers import SGD\n",
        "from matplotlib import pyplot"
      ]
    },
    {
      "cell_type": "code",
      "source": [
        "# generate regression dataset\n",
        "X, y = make_regression(n_samples=5000, n_features=20, noise=0.1, random_state=1)\n",
        "# standardize dataset\n",
        "X = StandardScaler().fit_transform(X)\n",
        "y = StandardScaler().fit_transform(y.reshape(len(y),1))[:, 0]\n",
        "# Spilt into train and test\n",
        "X_train, X_test, y_train, y_test = train_test_split(X, y, test_size=0.25, random_state=20)"
      ],
      "metadata": {
        "id": "wn3KfsnaENBK"
      },
      "execution_count": 2,
      "outputs": []
    },
    {
      "cell_type": "code",
      "source": [
        "#define model\n",
        "model1 = Sequential()\n",
        "model1.add(Dense(25, input_dim=20, activation='relu', kernel_initializer='he_uniform'))\n",
        "model1.add(Dense(1, activation='linear'))\n",
        "opt = SGD(lr=0.1, momentum=0.9)\n",
        "model1.compile(loss='mean_squared_error', optimizer=opt)"
      ],
      "metadata": {
        "colab": {
          "base_uri": "https://localhost:8080/"
        },
        "id": "5_hs1tFOF-iR",
        "outputId": "86e3b3c5-4ada-4b15-f3c0-94a8bc708091"
      },
      "execution_count": 3,
      "outputs": [
        {
          "output_type": "stream",
          "name": "stderr",
          "text": [
            "/usr/local/lib/python3.7/dist-packages/keras/optimizer_v2/gradient_descent.py:102: UserWarning: The `lr` argument is deprecated, use `learning_rate` instead.\n",
            "  super(SGD, self).__init__(name, **kwargs)\n"
          ]
        }
      ]
    },
    {
      "cell_type": "code",
      "source": [
        "#fit model\n",
        "history = model1.fit(X_train, y_train, validation_data=(X_test, y_test), epochs=50, verbose=0)"
      ],
      "metadata": {
        "id": "ToiA-jYeGLwZ"
      },
      "execution_count": 4,
      "outputs": []
    },
    {
      "cell_type": "code",
      "source": [
        "# evaluate the model\n",
        "train_mse = model1.evaluate(X_train, y_train, verbose=0)\n",
        "test_mse = model1.evaluate(X_test, y_test, verbose=0)\n",
        "print('Train: %.3f, Test: %.3f' % (train_mse, test_mse))"
      ],
      "metadata": {
        "colab": {
          "base_uri": "https://localhost:8080/"
        },
        "id": "AY4rlxZ3GsRa",
        "outputId": "9ef69fa5-3e2e-491c-e3ab-baf1b05a303f"
      },
      "execution_count": 5,
      "outputs": [
        {
          "output_type": "stream",
          "name": "stdout",
          "text": [
            "Train: 0.000, Test: 0.000\n"
          ]
        }
      ]
    },
    {
      "cell_type": "code",
      "source": [
        "#plot loss during training\n",
        "pyplot.title('Mean Squared Error')\n",
        "pyplot.plot(history.history['loss'], label='train')\n",
        "pyplot.plot(history.history['val_loss'], label='test')\n",
        "pyplot.legend()\n",
        "pyplot.show()"
      ],
      "metadata": {
        "colab": {
          "base_uri": "https://localhost:8080/",
          "height": 281
        },
        "id": "JFveiq5ZHNFK",
        "outputId": "abfde5cd-0a59-4fbd-d198-2f01c0738bf4"
      },
      "execution_count": 6,
      "outputs": [
        {
          "output_type": "display_data",
          "data": {
            "text/plain": [
              "<Figure size 432x288 with 1 Axes>"
            ],
            "image/png": "[encoded data removed]"
          },
          "metadata": {
            "needs_background": "light"
          }
        }
      ]
    },
    {
      "cell_type": "markdown",
      "source": [
        "##2. Mean Squared Logarithmic Error Loss\n",
        "Suppose we want to reduce the difference between the actual and predicted variable we can take the natural logarithm of the predicted variable then take the mean squared error.\n",
        "\n",
        "This will overcome the problem possessed by the Mean Square Error Method. The model will now penalize less in comparison to the earlier method."
      ],
      "metadata": {
        "id": "drc7r4NUK-t0"
      }
    },
    {
      "cell_type": "code",
      "source": [
        "#define model\n",
        "model2 = Sequential()\n",
        "model2.add(Dense(25, input_dim=20, activation='relu', kernel_initializer='he_uniform'))\n",
        "model2.add(Dense(1, activation='linear'))\n",
        "opt = SGD(lr=0.01, momentum=0.9)\n",
        "model2.compile(loss='mean_squared_logarithmic_error', optimizer=opt, metrics=['mse'])\n",
        "#fit model\n",
        "history = model2.fit(X_train, y_train, validation_data=(X_test, y_test), epochs=50, verbose=0)\n",
        "#evaluate the model \n",
        "train_mse = model2.evaluate(X_train, y_train, verbose=0)\n",
        "train_mse = model2.evaluate(X_test, y_test, verbose = 0)\n",
        "# plot loss during training\n",
        "pyplot.title('Mean Squared Logarithmic Error Loss')\n",
        "pyplot.plot(history.history['loss'], label='train')\n",
        "pyplot.plot(history.history['val_loss'], label='test')\n",
        "pyplot.legend()\n",
        "pyplot.show()"
      ],
      "metadata": {
        "colab": {
          "base_uri": "https://localhost:8080/",
          "height": 316
        },
        "id": "8qFsc2ZG9mlL",
        "outputId": "ef33450e-12cd-45ff-c818-eff3a69bf9cd"
      },
      "execution_count": 7,
      "outputs": [
        {
          "output_type": "stream",
          "name": "stderr",
          "text": [
            "/usr/local/lib/python3.7/dist-packages/keras/optimizer_v2/gradient_descent.py:102: UserWarning: The `lr` argument is deprecated, use `learning_rate` instead.\n",
            "  super(SGD, self).__init__(name, **kwargs)\n"
          ]
        },
        {
          "output_type": "display_data",
          "data": {
            "text/plain": [
              "<Figure size 432x288 with 1 Axes>"
            ],
            "image/png": "[encoded data removed]"
          },
          "metadata": {
            "needs_background": "light"
          }
        }
      ]
    },
    {
      "cell_type": "code",
      "source": [
        "from sklearn.datasets import make_regression\n",
        "from sklearn.preprocessing import StandardScaler\n",
        "from keras.models import Sequential\n",
        "from keras.layers import Dense\n",
        "from tensorflow.keras.optimizers import SGD\n",
        "from matplotlib import pyplot\n",
        "\n",
        "X, y = make_regression(n_samples=5000, n_features=20, noise=0.1, random_state=1)\n",
        "# standardize dataset\n",
        "X = StandardScaler().fit_transform(X)\n",
        "y = StandardScaler().fit_transform(y.reshape(len(y),1))[:,0]\n",
        "# split into train and test\n",
        "n_train = 2500\n",
        "trainX, testX = X[:n_train, :], X[n_train:, :]\n",
        "trainy, testy = y[:n_train], y[n_train:]\n",
        "# define model\n",
        "model = Sequential()\n",
        "model.add(Dense(25, input_dim=20, activation='relu', kernel_initializer='he_uniform'))\n",
        "model.add(Dense(1, activation='linear'))\n",
        "opt = SGD(lr=0.01, momentum=0.9)\n",
        "model.compile(loss='mean_absolute_error', optimizer=opt, metrics=['mse'])\n",
        "\n",
        "# fit model\n",
        "history = model.fit(trainX, trainy, validation_data=(testX, testy), epochs=50, verbose=0)\n",
        "# evaluate the model\n",
        "_, train_mse = model.evaluate(trainX, trainy, verbose=0)\n",
        "_, test_mse = model.evaluate(testX, testy, verbose=0)\n",
        "\n",
        "# plot loss during training\n",
        "pyplot.title('Absolute Loss')\n",
        "pyplot.plot(history.history['loss'], label='train')\n",
        "pyplot.plot(history.history['val_loss'], label='test')\n",
        "pyplot.legend()\n",
        "pyplot.show()"
      ],
      "metadata": {
        "colab": {
          "base_uri": "https://localhost:8080/",
          "height": 316
        },
        "id": "wbAP-pYjFwGy",
        "outputId": "2513bef1-60d5-4058-f53c-d6f0df4a55c0"
      },
      "execution_count": 8,
      "outputs": [
        {
          "output_type": "stream",
          "name": "stderr",
          "text": [
            "/usr/local/lib/python3.7/dist-packages/keras/optimizer_v2/gradient_descent.py:102: UserWarning: The `lr` argument is deprecated, use `learning_rate` instead.\n",
            "  super(SGD, self).__init__(name, **kwargs)\n"
          ]
        },
        {
          "output_type": "display_data",
          "data": {
            "text/plain": [
              "<Figure size 432x288 with 1 Axes>"
            ],
            "image/png": "[encoded data removed]"
          },
          "metadata": {
            "needs_background": "light"
          }
        }
      ]
    },
    {
      "cell_type": "markdown",
      "source": [
        "Binary Classification Loss Function\n",
        "Suppose we are dealing with a Yes/no situation in this kind of scenario Binary Classifiction Loss Functin is used\n",
        "\n",
        "1. Binary Cross Entropy Loss\n",
        "It gives the probablity values between 0 and 1 for a classification tast\n",
        "\n",
        "Cross-Entropy calcualtes the average difference between the predicted and actual probalities"
      ],
      "metadata": {
        "id": "Sg_AOvBy9EfT"
      }
    },
    {
      "cell_type": "code",
      "source": [
        "from sklearn.datasets import make_circles\n",
        "from tensorflow.keras.optimizers import SGD\n",
        "from sklearn.model_selection import train_test_split\n",
        "#generate 2d classification dataset\n",
        "X, y = make_circles(n_samples=5000, noise=0.1, random_state=1)\n",
        "#split into train and test\n",
        "X_train, X_test, y_train, y_test = train_test_split(X, y, test_size=0.25, random_state=20)"
      ],
      "metadata": {
        "id": "f-mGGFTwv8pj"
      },
      "execution_count": 9,
      "outputs": []
    },
    {
      "cell_type": "code",
      "source": [
        "#define model\n",
        "model3 = Sequential()\n",
        "model3.add(Dense(50, input_dim=2, activation='relu', kernel_initializer='he_uniform'))\n",
        "model3.add(Dense(1, activation='sigmoid'))\n",
        "opt = SGD(lr=0.01, momentum=0.9)\n",
        "model3.compile(loss='binary_crossentropy', optimizer=opt, metrics=['accuracy'])\n",
        "#fit model\n",
        "history = model3.fit(X_train, y_train, validation_data=(X_test, y_test), epochs=50, verbose=0)\n",
        "#evaluate the model\n",
        "train_acc = model3.evaluate(X_train, y_train, verbose=0) #returns list of two values i.e loss and accuracy\n",
        "test_acc = model3.evaluate(X_test, y_test, verbose=0)"
      ],
      "metadata": {
        "id": "Yi2hT7zewlXc",
        "colab": {
          "base_uri": "https://localhost:8080/"
        },
        "outputId": "44db2275-1821-4386-a707-6950903f3250"
      },
      "execution_count": 10,
      "outputs": [
        {
          "output_type": "stream",
          "name": "stderr",
          "text": [
            "/usr/local/lib/python3.7/dist-packages/keras/optimizer_v2/gradient_descent.py:102: UserWarning: The `lr` argument is deprecated, use `learning_rate` instead.\n",
            "  super(SGD, self).__init__(name, **kwargs)\n"
          ]
        }
      ]
    },
    {
      "cell_type": "code",
      "source": [
        "#Hinge loss\n",
        "model4 = Sequential()\n",
        "model4.add(Dense(50, input_dim=2, activation='relu', kernel_initializer='he_uniform'))\n",
        "model4.add(Dense(1, activation='tanh'))\n",
        "opt = SGD(lr=0.01, momentum=0.9)\n",
        "model4.compile(loss='hinge', optimizer=opt, metrics=['accuracy'])\n",
        "# fit model\n",
        "history = model4.fit(X_train, y_train, validation_data=(X_test, y_test), epochs=50, verbose=0)\n",
        "# evaluate the model\n",
        "train_acc = model4.evaluate(X_train, y_train, verbose=0)\n",
        "test_acc = model4.evaluate(X_test, y_test, verbose=0)\n",
        "# plot loss during training\n",
        "pyplot.title('Hinge Loss')\n",
        "pyplot.plot(history.history['loss'], label='train')\n",
        "pyplot.plot(history.history['val_loss'], label='test')\n",
        "pyplot.legend()\n",
        "pyplot.show()"
      ],
      "metadata": {
        "colab": {
          "base_uri": "https://localhost:8080/",
          "height": 316
        },
        "id": "NeRUsKj1yH6z",
        "outputId": "d7319722-16bb-48a2-8dbe-359bf646eaa5"
      },
      "execution_count": 11,
      "outputs": [
        {
          "output_type": "stream",
          "name": "stderr",
          "text": [
            "/usr/local/lib/python3.7/dist-packages/keras/optimizer_v2/gradient_descent.py:102: UserWarning: The `lr` argument is deprecated, use `learning_rate` instead.\n",
            "  super(SGD, self).__init__(name, **kwargs)\n"
          ]
        },
        {
          "output_type": "display_data",
          "data": {
            "text/plain": [
              "<Figure size 432x288 with 1 Axes>"
            ],
            "image/png": "[encoded data removed]"
          },
          "metadata": {
            "needs_background": "light"
          }
        }
      ]
    },
    {
      "cell_type": "code",
      "source": [
        "#Multi-class Cross-entropy loss\n",
        "from sklearn.datasets import make_blobs\n",
        "from keras.layers import Dense\n",
        "from keras.models import Sequential\n",
        "from tensorflow.keras.optimizers import SGD\n",
        "from tensorflow.keras.utils import to_categorical\n",
        "from matplotlib import pyplot\n",
        "#generate 2d classification dataset\n",
        "X, y = make_blobs(n_samples=5000, centers=3, n_features=2, cluster_std=2, random_state=2)\n",
        "#one hot encode output variable\n",
        "y = to_categorical(y)\n",
        "# split into train and test\n",
        "X_train, X_test, y_train, y_test = train_test_split(X, y, test_size=0.3, random_state=30)\n",
        "#define model\n",
        "model5 = Sequential()\n",
        "model5.add(Dense(50, input_dim=2, activation='relu', kernel_initializer='he_uniform'))\n",
        "model5.add(Dense(3, activation='softmax'))\n",
        "# compile model\n",
        "opt = SGD(lr=0.01, momentum=0.9)\n",
        "model5.compile(loss='categorical_crossentropy', optimizer=opt, metrics=['accuracy'])\n",
        "#fit model\n",
        "history = model5.fit(X_train, y_train, validation_data=(X_test, y_test), epochs=50, verbose=2)\n",
        "#evaluate the model\n",
        "train_acc = model5.evaluate(X_train, y_train, verbose=0)\n",
        "test_acc = model5.evaluate(X_test, y_test, verbose=0)\n",
        "\n",
        "#plot loss during training\n",
        "pyplot.title('Categorical Cross Entropy')\n",
        "pyplot.plot(history.history['loss'], label='train')\n",
        "pyplot.plot(history.history['val_loss'], label='test')\n",
        "pyplot.legend()\n",
        "pyplot.show()"
      ],
      "metadata": {
        "colab": {
          "base_uri": "https://localhost:8080/",
          "height": 1000
        },
        "id": "-KJg3PlY0fQE",
        "outputId": "0450e5a0-7a1f-4430-9470-baa6ace8a9a7"
      },
      "execution_count": 12,
      "outputs": [
        {
          "output_type": "stream",
          "name": "stdout",
          "text": [
            "Epoch 1/50\n"
          ]
        },
        {
          "output_type": "stream",
          "name": "stderr",
          "text": [
            "/usr/local/lib/python3.7/dist-packages/keras/optimizer_v2/gradient_descent.py:102: UserWarning: The `lr` argument is deprecated, use `learning_rate` instead.\n",
            "  super(SGD, self).__init__(name, **kwargs)\n"
          ]
        },
        {
          "output_type": "stream",
          "name": "stdout",
          "text": [
            "110/110 - 1s - loss: 1.1232 - accuracy: 0.6580 - val_loss: 0.7103 - val_accuracy: 0.7087 - 793ms/epoch - 7ms/step\n",
            "Epoch 2/50\n",
            "110/110 - 0s - loss: 0.5277 - accuracy: 0.7749 - val_loss: 0.4568 - val_accuracy: 0.7920 - 203ms/epoch - 2ms/step\n",
            "Epoch 3/50\n",
            "110/110 - 0s - loss: 0.4770 - accuracy: 0.7906 - val_loss: 0.4981 - val_accuracy: 0.7860 - 221ms/epoch - 2ms/step\n",
            "Epoch 4/50\n",
            "110/110 - 0s - loss: 0.4431 - accuracy: 0.8049 - val_loss: 0.4399 - val_accuracy: 0.8033 - 222ms/epoch - 2ms/step\n",
            "Epoch 5/50\n",
            "110/110 - 0s - loss: 0.4337 - accuracy: 0.8071 - val_loss: 0.4955 - val_accuracy: 0.7920 - 223ms/epoch - 2ms/step\n",
            "Epoch 6/50\n",
            "110/110 - 0s - loss: 0.4403 - accuracy: 0.8120 - val_loss: 0.4316 - val_accuracy: 0.8067 - 201ms/epoch - 2ms/step\n",
            "Epoch 7/50\n",
            "110/110 - 0s - loss: 0.4289 - accuracy: 0.8146 - val_loss: 0.4303 - val_accuracy: 0.8033 - 209ms/epoch - 2ms/step\n",
            "Epoch 8/50\n",
            "110/110 - 0s - loss: 0.4152 - accuracy: 0.8183 - val_loss: 0.4861 - val_accuracy: 0.7953 - 222ms/epoch - 2ms/step\n",
            "Epoch 9/50\n",
            "110/110 - 0s - loss: 0.4190 - accuracy: 0.8211 - val_loss: 0.4293 - val_accuracy: 0.8047 - 226ms/epoch - 2ms/step\n",
            "Epoch 10/50\n",
            "110/110 - 0s - loss: 0.4205 - accuracy: 0.8194 - val_loss: 0.4326 - val_accuracy: 0.8047 - 203ms/epoch - 2ms/step\n",
            "Epoch 11/50\n",
            "110/110 - 0s - loss: 0.4181 - accuracy: 0.8171 - val_loss: 0.4745 - val_accuracy: 0.7960 - 204ms/epoch - 2ms/step\n",
            "Epoch 12/50\n",
            "110/110 - 0s - loss: 0.4187 - accuracy: 0.8211 - val_loss: 0.4384 - val_accuracy: 0.8060 - 198ms/epoch - 2ms/step\n",
            "Epoch 13/50\n",
            "110/110 - 0s - loss: 0.4060 - accuracy: 0.8171 - val_loss: 0.4194 - val_accuracy: 0.8133 - 212ms/epoch - 2ms/step\n",
            "Epoch 14/50\n",
            "110/110 - 0s - loss: 0.4061 - accuracy: 0.8214 - val_loss: 0.4305 - val_accuracy: 0.8073 - 205ms/epoch - 2ms/step\n",
            "Epoch 15/50\n",
            "110/110 - 0s - loss: 0.3975 - accuracy: 0.8251 - val_loss: 0.4276 - val_accuracy: 0.8080 - 216ms/epoch - 2ms/step\n",
            "Epoch 16/50\n",
            "110/110 - 0s - loss: 0.4125 - accuracy: 0.8200 - val_loss: 0.4253 - val_accuracy: 0.8100 - 204ms/epoch - 2ms/step\n",
            "Epoch 17/50\n",
            "110/110 - 0s - loss: 0.4084 - accuracy: 0.8234 - val_loss: 0.4866 - val_accuracy: 0.7973 - 209ms/epoch - 2ms/step\n",
            "Epoch 18/50\n",
            "110/110 - 0s - loss: 0.4102 - accuracy: 0.8169 - val_loss: 0.4709 - val_accuracy: 0.7987 - 216ms/epoch - 2ms/step\n",
            "Epoch 19/50\n",
            "110/110 - 0s - loss: 0.4028 - accuracy: 0.8283 - val_loss: 0.4589 - val_accuracy: 0.7920 - 208ms/epoch - 2ms/step\n",
            "Epoch 20/50\n",
            "110/110 - 0s - loss: 0.4088 - accuracy: 0.8260 - val_loss: 0.4190 - val_accuracy: 0.8060 - 221ms/epoch - 2ms/step\n",
            "Epoch 21/50\n",
            "110/110 - 0s - loss: 0.4008 - accuracy: 0.8197 - val_loss: 0.4413 - val_accuracy: 0.8073 - 205ms/epoch - 2ms/step\n",
            "Epoch 22/50\n",
            "110/110 - 0s - loss: 0.4002 - accuracy: 0.8260 - val_loss: 0.4218 - val_accuracy: 0.8073 - 224ms/epoch - 2ms/step\n",
            "Epoch 23/50\n",
            "110/110 - 0s - loss: 0.3995 - accuracy: 0.8237 - val_loss: 0.4248 - val_accuracy: 0.8087 - 209ms/epoch - 2ms/step\n",
            "Epoch 24/50\n",
            "110/110 - 0s - loss: 0.4045 - accuracy: 0.8269 - val_loss: 0.4282 - val_accuracy: 0.8060 - 203ms/epoch - 2ms/step\n",
            "Epoch 25/50\n",
            "110/110 - 0s - loss: 0.3967 - accuracy: 0.8274 - val_loss: 0.4356 - val_accuracy: 0.8040 - 214ms/epoch - 2ms/step\n",
            "Epoch 26/50\n",
            "110/110 - 0s - loss: 0.3938 - accuracy: 0.8317 - val_loss: 0.4313 - val_accuracy: 0.8020 - 211ms/epoch - 2ms/step\n",
            "Epoch 27/50\n",
            "110/110 - 0s - loss: 0.3961 - accuracy: 0.8311 - val_loss: 0.4642 - val_accuracy: 0.7960 - 232ms/epoch - 2ms/step\n",
            "Epoch 28/50\n",
            "110/110 - 0s - loss: 0.4021 - accuracy: 0.8229 - val_loss: 0.5104 - val_accuracy: 0.7873 - 228ms/epoch - 2ms/step\n",
            "Epoch 29/50\n",
            "110/110 - 0s - loss: 0.4110 - accuracy: 0.8171 - val_loss: 0.4314 - val_accuracy: 0.8027 - 216ms/epoch - 2ms/step\n",
            "Epoch 30/50\n",
            "110/110 - 0s - loss: 0.4038 - accuracy: 0.8217 - val_loss: 0.4465 - val_accuracy: 0.8013 - 224ms/epoch - 2ms/step\n",
            "Epoch 31/50\n",
            "110/110 - 0s - loss: 0.4018 - accuracy: 0.8257 - val_loss: 0.4251 - val_accuracy: 0.8093 - 220ms/epoch - 2ms/step\n",
            "Epoch 32/50\n",
            "110/110 - 0s - loss: 0.3920 - accuracy: 0.8263 - val_loss: 0.4178 - val_accuracy: 0.8080 - 333ms/epoch - 3ms/step\n",
            "Epoch 33/50\n",
            "110/110 - 0s - loss: 0.3962 - accuracy: 0.8280 - val_loss: 0.4294 - val_accuracy: 0.8087 - 238ms/epoch - 2ms/step\n",
            "Epoch 34/50\n",
            "110/110 - 0s - loss: 0.3977 - accuracy: 0.8283 - val_loss: 0.4285 - val_accuracy: 0.8087 - 230ms/epoch - 2ms/step\n",
            "Epoch 35/50\n",
            "110/110 - 0s - loss: 0.3926 - accuracy: 0.8303 - val_loss: 0.4339 - val_accuracy: 0.8047 - 233ms/epoch - 2ms/step\n",
            "Epoch 36/50\n",
            "110/110 - 0s - loss: 0.3929 - accuracy: 0.8263 - val_loss: 0.4467 - val_accuracy: 0.8067 - 217ms/epoch - 2ms/step\n",
            "Epoch 37/50\n",
            "110/110 - 0s - loss: 0.3960 - accuracy: 0.8254 - val_loss: 0.4374 - val_accuracy: 0.8067 - 222ms/epoch - 2ms/step\n",
            "Epoch 38/50\n",
            "110/110 - 0s - loss: 0.3976 - accuracy: 0.8306 - val_loss: 0.4298 - val_accuracy: 0.8033 - 218ms/epoch - 2ms/step\n",
            "Epoch 39/50\n",
            "110/110 - 0s - loss: 0.3944 - accuracy: 0.8274 - val_loss: 0.4317 - val_accuracy: 0.8047 - 206ms/epoch - 2ms/step\n",
            "Epoch 40/50\n",
            "110/110 - 0s - loss: 0.3966 - accuracy: 0.8266 - val_loss: 0.4297 - val_accuracy: 0.8067 - 215ms/epoch - 2ms/step\n",
            "Epoch 41/50\n",
            "110/110 - 0s - loss: 0.3920 - accuracy: 0.8274 - val_loss: 0.4171 - val_accuracy: 0.8133 - 208ms/epoch - 2ms/step\n",
            "Epoch 42/50\n",
            "110/110 - 0s - loss: 0.3945 - accuracy: 0.8283 - val_loss: 0.4252 - val_accuracy: 0.8080 - 197ms/epoch - 2ms/step\n",
            "Epoch 43/50\n",
            "110/110 - 0s - loss: 0.3899 - accuracy: 0.8303 - val_loss: 0.4217 - val_accuracy: 0.8087 - 216ms/epoch - 2ms/step\n",
            "Epoch 44/50\n",
            "110/110 - 0s - loss: 0.3908 - accuracy: 0.8303 - val_loss: 0.4182 - val_accuracy: 0.8093 - 214ms/epoch - 2ms/step\n",
            "Epoch 45/50\n",
            "110/110 - 0s - loss: 0.3941 - accuracy: 0.8226 - val_loss: 0.4279 - val_accuracy: 0.8047 - 208ms/epoch - 2ms/step\n",
            "Epoch 46/50\n",
            "110/110 - 0s - loss: 0.3923 - accuracy: 0.8269 - val_loss: 0.4220 - val_accuracy: 0.8133 - 218ms/epoch - 2ms/step\n",
            "Epoch 47/50\n",
            "110/110 - 0s - loss: 0.3906 - accuracy: 0.8311 - val_loss: 0.4806 - val_accuracy: 0.7893 - 196ms/epoch - 2ms/step\n",
            "Epoch 48/50\n",
            "110/110 - 0s - loss: 0.3978 - accuracy: 0.8263 - val_loss: 0.4495 - val_accuracy: 0.8040 - 200ms/epoch - 2ms/step\n",
            "Epoch 49/50\n",
            "110/110 - 0s - loss: 0.3934 - accuracy: 0.8269 - val_loss: 0.4223 - val_accuracy: 0.8093 - 211ms/epoch - 2ms/step\n",
            "Epoch 50/50\n",
            "110/110 - 0s - loss: 0.3947 - accuracy: 0.8263 - val_loss: 0.4258 - val_accuracy: 0.8067 - 224ms/epoch - 2ms/step\n"
          ]
        },
        {
          "output_type": "display_data",
          "data": {
            "text/plain": [
              "<Figure size 432x288 with 1 Axes>"
            ],
            "image/png": "[encoded data removed]"
          },
          "metadata": {
            "needs_background": "light"
          }
        }
      ]
    },
    {
      "cell_type": "code",
      "source": [
        "# KL Divergence\n",
        "model6 = Sequential()\n",
        "model6.add(Dense(50, input_dim=2, activation='relu', kernel_initializer='he_uniform'))\n",
        "model6.add(Dense(3, activation='softmax'))\n",
        "# compile model\n",
        "opt = SGD(lr=0.01, momentum=0.9)\n",
        "model6.compile(optimizer=opt, loss='kullback_leibler_divergence', metrics=['accuracy'])\n",
        "# fit model\n",
        "history = model6.fit(X_train, y_train, validation_data=(X_test, y_test), epochs=50, verbose=0)\n",
        "#evaluate the model\n",
        "train_acc = model6.evaluate(X_train, y_train, verbose=0)\n",
        "test_acc =model6.evaluate(X_test, y_test, verbose=0)\n",
        "#plot loss during training\n",
        "pyplot.title('KL Divergence Loss')\n",
        "pyplot.plot(history.history['loss'], label='train')\n",
        "pyplot.plot(history.history['val_loss'], label='test')\n",
        "pyplot.legend()\n",
        "pyplot.show()\n"
      ],
      "metadata": {
        "colab": {
          "base_uri": "https://localhost:8080/",
          "height": 316
        },
        "id": "F0vRgdXF5vvD",
        "outputId": "d62c04a0-d19e-49f9-adf6-32ff35443ef4"
      },
      "execution_count": 13,
      "outputs": [
        {
          "output_type": "stream",
          "name": "stderr",
          "text": [
            "/usr/local/lib/python3.7/dist-packages/keras/optimizer_v2/gradient_descent.py:102: UserWarning: The `lr` argument is deprecated, use `learning_rate` instead.\n",
            "  super(SGD, self).__init__(name, **kwargs)\n"
          ]
        },
        {
          "output_type": "display_data",
          "data": {
            "text/plain": [
              "<Figure size 432x288 with 1 Axes>"
            ],
            "image/png": "[encoded data removed]"
          },
          "metadata": {
            "needs_background": "light"
          }
        }
      ]
    }
  ]
}