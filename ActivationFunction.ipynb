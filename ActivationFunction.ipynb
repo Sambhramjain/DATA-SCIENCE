{
  "nbformat": 4,
  "nbformat_minor": 0,
  "metadata": {
    "colab": {
      "name": "CCSP_ActivationFunction.ipynb",
      "provenance": [],
      "collapsed_sections": []
    },
    "kernelspec": {
      "name": "python3",
      "display_name": "Python 3"
    },
    "language_info": {
      "name": "python"
    }
  },
  "cells": [
    {
      "cell_type": "markdown",
      "source": [
        "Notes:\n",
        "https://www.analyticsvidhya.com/blog/2020/01/fundamentals-deep-learning-activation-functions-when-to-use-them/"
      ],
      "metadata": {
        "id": "qIY89kdZMBKh"
      }
    },
    {
      "cell_type": "markdown",
      "source": [
        "**Binay step function**"
      ],
      "metadata": {
        "id": "Q6Z-b-eTAgsL"
      }
    },
    {
      "cell_type": "code",
      "source": [
        "\n",
        "\n",
        "def binary_step(x):\n",
        "    if x<0:\n",
        "        return 0\n",
        "\n",
        "    else:\n",
        "        return 1\n",
        "    \n",
        "binary_step(5), binary_step(-1)\n"
      ],
      "metadata": {
        "colab": {
          "base_uri": "https://localhost:8080/"
        },
        "id": "XXsGjTYsAiZU",
        "outputId": "5d1256f3-83c3-4146-f6c5-f23b0c1e9a67"
      },
      "execution_count": 1,
      "outputs": [
        {
          "output_type": "execute_result",
          "data": {
            "text/plain": [
              "(1, 0)"
            ]
          },
          "metadata": {},
          "execution_count": 1
        }
      ]
    },
    {
      "cell_type": "markdown",
      "source": [
        "**Linear Function**"
      ],
      "metadata": {
        "id": "ip3cLPPwAjiL"
      }
    },
    {
      "cell_type": "code",
      "source": [
        "\n",
        "\n",
        "def linear_function(x):\n",
        "  return 4*x\n",
        "\n",
        "linear_function(4), linear_function(-2)"
      ],
      "metadata": {
        "colab": {
          "base_uri": "https://localhost:8080/"
        },
        "id": "N83oy5jbAl0b",
        "outputId": "ad585d8c-378b-42d6-f78d-9053f4fb8c1d"
      },
      "execution_count": 2,
      "outputs": [
        {
          "output_type": "execute_result",
          "data": {
            "text/plain": [
              "(16, -8)"
            ]
          },
          "metadata": {},
          "execution_count": 2
        }
      ]
    },
    {
      "cell_type": "markdown",
      "source": [
        "**Sigmoid Function**"
      ],
      "metadata": {
        "id": "mpYWuYn5A6ZM"
      }
    },
    {
      "cell_type": "code",
      "source": [
        "\n",
        "\n",
        "import numpy as np\n",
        "def sigmoid_function(x):\n",
        "  z=(1/(1 + np.exp(-x)))\n",
        "  return z\n",
        "\n",
        "sigmoid_function(7), sigmoid_function(-22)"
      ],
      "metadata": {
        "colab": {
          "base_uri": "https://localhost:8080/"
        },
        "id": "8fXi0qMyCWI0",
        "outputId": "20fa348c-9150-4896-abc5-70a52a2c7ba9"
      },
      "execution_count": 3,
      "outputs": [
        {
          "output_type": "execute_result",
          "data": {
            "text/plain": [
              "(0.9990889488055994, 2.7894680920908113e-10)"
            ]
          },
          "metadata": {},
          "execution_count": 3
        }
      ]
    },
    {
      "cell_type": "markdown",
      "source": [
        "**Tanh Function**"
      ],
      "metadata": {
        "id": "NAkWrObqEj3l"
      }
    },
    {
      "cell_type": "code",
      "source": [
        "\n",
        "\n",
        "import numpy as np\n",
        "def tanh_function(x):\n",
        "  z=(2/(1 + np.exp(-2*x))) -1\n",
        "  return z\n",
        "\n",
        "tanh_function(0.5), tanh_function(-1)"
      ],
      "metadata": {
        "colab": {
          "base_uri": "https://localhost:8080/"
        },
        "id": "IyL-GrA2EmRU",
        "outputId": "d4b9b584-389e-4acd-c2bf-0b82cb0ccff8"
      },
      "execution_count": 4,
      "outputs": [
        {
          "output_type": "execute_result",
          "data": {
            "text/plain": [
              "(0.4621171572600098, -0.7615941559557649)"
            ]
          },
          "metadata": {},
          "execution_count": 4
        }
      ]
    },
    {
      "cell_type": "markdown",
      "source": [
        "**ReLU**"
      ],
      "metadata": {
        "id": "U_NqPi3aFz_N"
      }
    },
    {
      "cell_type": "code",
      "source": [
        "\n",
        "\n",
        "def relu_function(x):\n",
        "    if x<0:\n",
        "        return 0\n",
        "    else:\n",
        "        return x\n",
        "\n",
        "relu_function(7), relu_function(-1)"
      ],
      "metadata": {
        "colab": {
          "base_uri": "https://localhost:8080/"
        },
        "id": "KJRSSenrK-A9",
        "outputId": "28d4136a-6674-4d61-9381-36fc44bd3c32"
      },
      "execution_count": 5,
      "outputs": [
        {
          "output_type": "execute_result",
          "data": {
            "text/plain": [
              "(7, 0)"
            ]
          },
          "metadata": {},
          "execution_count": 5
        }
      ]
    },
    {
      "cell_type": "markdown",
      "source": [
        "**Leaky ReLU**"
      ],
      "metadata": {
        "id": "BW9Ox6nBLGXJ"
      }
    },
    {
      "cell_type": "code",
      "source": [
        "\n",
        "\n",
        "def leaky_relu_function(x):\n",
        "    if x<0:\n",
        "        return 0.01*x\n",
        "    else:\n",
        "        return x\n",
        "\n",
        "leaky_relu_function(4), leaky_relu_function(-8)"
      ],
      "metadata": {
        "colab": {
          "base_uri": "https://localhost:8080/"
        },
        "id": "eg9la0PPLJXB",
        "outputId": "f4ba04a1-7fb4-4f2a-896c-833927a68d38"
      },
      "execution_count": 6,
      "outputs": [
        {
          "output_type": "execute_result",
          "data": {
            "text/plain": [
              "(4, -0.08)"
            ]
          },
          "metadata": {},
          "execution_count": 6
        }
      ]
    },
    {
      "cell_type": "markdown",
      "source": [
        "**Parameterised ReLU**"
      ],
      "metadata": {
        "id": "U5adXAgULQ2b"
      }
    },
    {
      "cell_type": "code",
      "source": [
        "\n",
        "\n",
        "def parameterised_relu_function(x):\n",
        "    if x<0:\n",
        "        return 0.33*x\n",
        "    else:\n",
        "        return x\n",
        "\n",
        "parameterised_relu_function(3), parameterised_relu_function(-10)"
      ],
      "metadata": {
        "colab": {
          "base_uri": "https://localhost:8080/"
        },
        "id": "7WugCAVhLTSD",
        "outputId": "4fba4f63-1ad9-40c4-c63d-f31b0a0dd199"
      },
      "execution_count": 7,
      "outputs": [
        {
          "output_type": "execute_result",
          "data": {
            "text/plain": [
              "(3, -3.3000000000000003)"
            ]
          },
          "metadata": {},
          "execution_count": 7
        }
      ]
    },
    {
      "cell_type": "markdown",
      "source": [
        "**Exponential Linear Unit**"
      ],
      "metadata": {
        "id": "FLq2QTSZLxGE"
      }
    },
    {
      "cell_type": "code",
      "source": [
        "\n",
        "\n",
        "def elu_function(x, a):\n",
        "    if x<0:\n",
        "        return a*(np.exp(x)-1)\n",
        "    else:\n",
        "        return x\n",
        "\n",
        "elu_function(6, 0.1),elu_function(-8, 0.1)"
      ],
      "metadata": {
        "colab": {
          "base_uri": "https://localhost:8080/"
        },
        "id": "nR2I45l2Ly57",
        "outputId": "ba83e0d8-c6bb-4108-eaef-419f873013b3"
      },
      "execution_count": 8,
      "outputs": [
        {
          "output_type": "execute_result",
          "data": {
            "text/plain": [
              "(6, -0.09996645373720975)"
            ]
          },
          "metadata": {},
          "execution_count": 8
        }
      ]
    },
    {
      "cell_type": "markdown",
      "source": [
        "**Swish**"
      ],
      "metadata": {
        "id": "8jbPwoG7L8gh"
      }
    },
    {
      "cell_type": "code",
      "source": [
        "\n",
        "\n",
        "def swish_function(x):\n",
        "    return x/(1-np.exp(-x))\n",
        "\n",
        "swish_function(-67), swish_function(4)"
      ],
      "metadata": {
        "colab": {
          "base_uri": "https://localhost:8080/"
        },
        "id": "zw1FVpX2L9sR",
        "outputId": "01a05ab2-4b77-4343-d55e-f51a88283c9a"
      },
      "execution_count": 9,
      "outputs": [
        {
          "output_type": "execute_result",
          "data": {
            "text/plain": [
              "(5.349885844610276e-28, 4.074629441455096)"
            ]
          },
          "metadata": {},
          "execution_count": 9
        }
      ]
    },
    {
      "cell_type": "markdown",
      "source": [
        "**Softmax**"
      ],
      "metadata": {
        "id": "F19P1AR7MfMM"
      }
    },
    {
      "cell_type": "code",
      "source": [
        "\n",
        "\n",
        "def softmax_function(x):\n",
        "    z = np.exp(x)\n",
        "    z_ = z/z.sum()\n",
        "    return z_\n",
        "\n",
        "softmax_function([0.8, 1.2, 3.1])"
      ],
      "metadata": {
        "colab": {
          "base_uri": "https://localhost:8080/"
        },
        "id": "a3FKxeklMgw7",
        "outputId": "689036f7-455c-4c54-ef6e-4c7634481ae1"
      },
      "execution_count": 10,
      "outputs": [
        {
          "output_type": "execute_result",
          "data": {
            "text/plain": [
              "array([0.08021815, 0.11967141, 0.80011044])"
            ]
          },
          "metadata": {},
          "execution_count": 10
        }
      ]
    }
  ]
}
