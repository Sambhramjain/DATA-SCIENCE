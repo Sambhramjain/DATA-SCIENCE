{
  "nbformat": 4,
  "nbformat_minor": 0,
  "metadata": {
    "colab": {
      "name": "Regularization Techniques.ipynb",
      "provenance": [],
      "collapsed_sections": []
    },
    "kernelspec": {
      "name": "python3",
      "display_name": "Python 3"
    },
    "language_info": {
      "name": "python"
    }
  },
  "cells": [
    {
      "cell_type": "code",
      "execution_count": 13,
      "metadata": {
        "id": "fewCJFGtT53H"
      },
      "outputs": [],
      "source": [
        "from keras import regularizers\n",
        "model.add(Dense(64, input_dim=64,\n",
        "                kernel_regularizer=regularizers.l2(0.01)"
      ]
    },
    {
      "cell_type": "code",
      "source": [
        "from keras.layers.core import Dropout\n",
        "\n",
        "model = Sequential([Dense(output_dim = hidden1_num_units, input_dim=input_num_units, activation='relu'),\n",
        " Dropout(0.25),\n",
        "\n",
        "Dense(output_dim=output_num_units, input_dim=hidden5_num_units, activation='softmax'),\n",
        " ])"
      ],
      "metadata": {
        "id": "Ag-s0oDgnSXe"
      },
      "execution_count": null,
      "outputs": []
    },
    {
      "cell_type": "code",
      "source": [
        "from keras.preprocessing.image import ImageDataGenerator\n",
        "datagen = ImageDataGenerator(horizontal flip=True)\n",
        "datagen.fit(train)"
      ],
      "metadata": {
        "id": "-t7Evtz0nVtq"
      },
      "execution_count": null,
      "outputs": []
    },
    {
      "cell_type": "code",
      "source": [
        "from keras.callbacks import EarlyStopping\n",
        "\n",
        "EarlyStopping(monitor='val_err', patience=5)"
      ],
      "metadata": {
        "id": "M-1A_MEhnZjl"
      },
      "execution_count": null,
      "outputs": []
    },
    {
      "cell_type": "code",
      "source": [
        "%pylab inline\n",
        "\n",
        "import numpy as np\n",
        "import pandas as pd\n",
        "from scipy.misc import imread\n",
        "from sklearn.metrics import accuracy_score\n",
        "\n",
        "from matplotlib import pyplot\n",
        "\n",
        "import tensorflow as tf\n",
        "import keras\n",
        "\n",
        "# To stop potential randomness\n",
        "seed = 128\n",
        "rng = np.random.RandomState(seed)"
      ],
      "metadata": {
        "id": "fQDfrJ5Undeg"
      },
      "execution_count": null,
      "outputs": []
    },
    {
      "cell_type": "code",
      "source": [
        "root_dir = os.path.abspath('/Users/sambhramjain/Downloads/AV/identify the digits/')\n",
        "data_dir = os.path.join(root_dir, 'data')\n",
        "sub_dir = os.path.join(root_dir, 'sub')\n",
        "\n",
        "## reading train file only\n",
        "train = pd.read_csv(os.path.join(data_dir, 'Train', 'train.csv'))\n",
        "train.head()"
      ],
      "metadata": {
        "id": "pMLjZZJAnm0p"
      },
      "execution_count": null,
      "outputs": []
    },
    {
      "cell_type": "code",
      "source": [
        "filepath = os.path.join(data_dir, 'Train', 'Images', 'train', img_name)\n",
        "\n",
        "img = imread(filepath, flatten=True)\n",
        "\n",
        "pylab.imshow(img, cmap='gray')\n",
        "pylab.axis('off')\n",
        "pylab.show()"
      ],
      "metadata": {
        "id": "ezCwfCnRnp5h"
      },
      "execution_count": null,
      "outputs": []
    },
    {
      "cell_type": "code",
      "source": [
        "temp = []\n",
        "for img_name in train.filename:\n",
        " image_path = os.path.join(data_dir, 'Train', 'Images', 'train', img_name)\n",
        " img = imread(image_path, flatten=True)\n",
        " img = img.astype('float32')\n",
        " temp.append(img)\n",
        " \n",
        "x_train = np.stack(temp)\n",
        "\n",
        "x_train /= 255.0\n",
        "x_train = x_train.reshape(-1, 784).astype('float32')\n",
        "\n",
        "y_train = keras.utils.np_utils.to_categorical(train.label.values)"
      ],
      "metadata": {
        "id": "NgEn4HXknwWj"
      },
      "execution_count": null,
      "outputs": []
    },
    {
      "cell_type": "code",
      "source": [
        "split_size = int(x_train.shape[0]*0.7)\n",
        "\n",
        "x_train, x_test = x_train[:split_size], x_train[split_size:]\n",
        "y_train, y_test = y_train[:split_size], y_train[split_size:]"
      ],
      "metadata": {
        "id": "SG1oYadxn55W"
      },
      "execution_count": null,
      "outputs": []
    },
    {
      "cell_type": "code",
      "source": [
        "from keras.models import Sequential\n",
        "from keras.layers import Dense\n"
      ],
      "metadata": {
        "id": "4Cg7hVgtn86B"
      },
      "execution_count": null,
      "outputs": []
    },
    {
      "cell_type": "code",
      "source": [
        "input_num_units = 784\n",
        "hidden1_num_units = 500\n",
        "hidden2_num_units = 500\n",
        "hidden3_num_units = 500\n",
        "hidden4_num_units = 500\n",
        "hidden5_num_units = 500\n",
        "output_num_units = 10\n",
        "\n",
        "epochs = 10\n",
        "batch_size = 128\n",
        "\n",
        "model = Sequential([\n",
        " Dense(output_dim=hidden1_num_units, input_dim=input_num_units, activation='relu'),\n",
        " Dense(output_dim=hidden2_num_units, input_dim=hidden1_num_units, activation='relu'),\n",
        " Dense(output_dim=hidden3_num_units, input_dim=hidden2_num_units, activation='relu'),\n",
        " Dense(output_dim=hidden4_num_units, input_dim=hidden3_num_units, activation='relu'),\n",
        " Dense(output_dim=hidden5_num_units, input_dim=hidden4_num_units, activation='relu'),\n",
        "\n",
        "Dense(output_dim=output_num_units, input_dim=hidden5_num_units, activation='softmax'),\n",
        " ])"
      ],
      "metadata": {
        "id": "-7zlSd39n_gU"
      },
      "execution_count": null,
      "outputs": []
    },
    {
      "cell_type": "code",
      "source": [
        "model.compile(loss='categorical_crossentropy', optimizer='adam', metrics=['accuracy'])\n",
        "\n",
        "trained_model_5d = model.fit(x_train, y_train, nb_epoch=epochs, batch_size=batch_size, validation_data=(x_test, y_test))"
      ],
      "metadata": {
        "id": "0yDTV-U_oFQ3"
      },
      "execution_count": null,
      "outputs": []
    },
    {
      "cell_type": "code",
      "source": [
        "from keras import regularizers\n",
        "\n",
        "model = Sequential([\n",
        " Dense(output_dim=hidden1_num_units, input_dim=input_num_units, activation='relu',\n",
        " kernel_regularizer=regularizers.l2(0.0001)),\n",
        " Dense(output_dim=hidden2_num_units, input_dim=hidden1_num_units, activation='relu',\n",
        " kernel_regularizer=regularizers.l2(0.0001)),\n",
        " Dense(output_dim=hidden3_num_units, input_dim=hidden2_num_units, activation='relu',\n",
        " kernel_regularizer=regularizers.l2(0.0001)),\n",
        " Dense(output_dim=hidden4_num_units, input_dim=hidden3_num_units, activation='relu',\n",
        " kernel_regularizer=regularizers.l2(0.0001)),\n",
        " Dense(output_dim=hidden5_num_units, input_dim=hidden4_num_units, activation='relu',\n",
        " kernel_regularizer=regularizers.l2(0.0001)),\n",
        "\n",
        "Dense(output_dim=output_num_units, input_dim=hidden5_num_units, activation='softmax'),\n",
        " ])"
      ],
      "metadata": {
        "id": "64DBdQXKoJ7o"
      },
      "execution_count": null,
      "outputs": []
    },
    {
      "cell_type": "code",
      "source": [
        "model.compile(loss='categorical_crossentropy', optimizer='adam', metrics=['accuracy'])\n",
        "\n",
        "trained_model_5d = model.fit(x_train, y_train, nb_epoch=epochs, batch_size=batch_size, validation_data=(x_test, y_test))"
      ],
      "metadata": {
        "id": "0vWm-wSHoTp9"
      },
      "execution_count": null,
      "outputs": []
    },
    {
      "cell_type": "code",
      "source": [
        "model = Sequential([\n",
        " Dense(output_dim=hidden1_num_units, input_dim=input_num_units, activation='relu',\n",
        " kernel_regularizer=regularizers.l1(0.0001)),\n",
        " Dense(output_dim=hidden2_num_units, input_dim=hidden1_num_units, activation='relu',\n",
        " kernel_regularizer=regularizers.l1(0.0001)),\n",
        " Dense(output_dim=hidden3_num_units, input_dim=hidden2_num_units, activation='relu',\n",
        " kernel_regularizer=regularizers.l1(0.0001)),\n",
        " Dense(output_dim=hidden4_num_units, input_dim=hidden3_num_units, activation='relu',\n",
        " kernel_regularizer=regularizers.l1(0.0001)),\n",
        " Dense(output_dim=hidden5_num_units, input_dim=hidden4_num_units, activation='relu',\n",
        " kernel_regularizer=regularizers.l1(0.0001)),\n",
        "\n",
        "Dense(output_dim=output_num_units, input_dim=hidden5_num_units, activation='softmax'),\n",
        " ])"
      ],
      "metadata": {
        "id": "955tzjkiy3qK"
      },
      "execution_count": null,
      "outputs": []
    },
    {
      "cell_type": "code",
      "source": [
        "model.compile(loss='categorical_crossentropy', optimizer='adam', metrics=['accuracy'])\n",
        "trained_model_5d = model.fit(x_train, y_train, nb_epoch=epochs, batch_size=batch_size, validation_data=(x_test, y_test))"
      ],
      "metadata": {
        "id": "OCSnCha5y9DC"
      },
      "execution_count": null,
      "outputs": []
    },
    {
      "cell_type": "code",
      "source": [
        "from keras.layers.core import Dropout\n",
        "model = Sequential([\n",
        " Dense(output_dim=hidden1_num_units, input_dim=input_num_units, activation='relu'),\n",
        " Dropout(0.25),\n",
        " Dense(output_dim=hidden2_num_units, input_dim=hidden1_num_units, activation='relu'),\n",
        " Dropout(0.25),\n",
        " Dense(output_dim=hidden3_num_units, input_dim=hidden2_num_units, activation='relu'),\n",
        " Dropout(0.25),\n",
        " Dense(output_dim=hidden4_num_units, input_dim=hidden3_num_units, activation='relu'),\n",
        " Dropout(0.25),\n",
        " Dense(output_dim=hidden5_num_units, input_dim=hidden4_num_units, activation='relu'),\n",
        " Dropout(0.25),\n",
        "\n",
        "Dense(output_dim=output_num_units, input_dim=hidden5_num_units, activation='softmax'),\n",
        " ])"
      ],
      "metadata": {
        "id": "5nRM7nbgzE8M"
      },
      "execution_count": null,
      "outputs": []
    },
    {
      "cell_type": "code",
      "source": [
        "model.compile(loss='categorical_crossentropy', optimizer='adam', metrics=['accuracy'])\n",
        "trained_model_5d = model.fit(x_train, y_train, nb_epoch=epochs, batch_size=batch_size, validation_data=(x_test, y_test))"
      ],
      "metadata": {
        "id": "Act0UJpOzJyu"
      },
      "execution_count": null,
      "outputs": []
    }
  ]
}